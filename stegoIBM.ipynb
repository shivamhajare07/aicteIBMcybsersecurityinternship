{
  "nbformat": 4,
  "nbformat_minor": 0,
  "metadata": {
    "colab": {
      "provenance": []
    },
    "kernelspec": {
      "name": "python3",
      "display_name": "Python 3"
    },
    "language_info": {
      "name": "python"
    }
  },
  "cells": [
    {
      "cell_type": "code",
      "execution_count": 2,
      "metadata": {
        "colab": {
          "base_uri": "https://localhost:8080/"
        },
        "id": "hYIBJsgJfxQ7",
        "outputId": "dc9afa76-9290-466a-9e37-7ca5f7997721"
      },
      "outputs": [
        {
          "output_type": "stream",
          "name": "stdout",
          "text": [
            "Enter secret message:hello shivam\n",
            "Enter a passcode:12345\n",
            "Enter passcode for Decryption12345\n",
            "Decryption message: hello shivam\n"
          ]
        }
      ],
      "source": [
        "import cv2\n",
        "import os\n",
        "import string\n",
        "\n",
        "img = cv2.imread(\"/content/drive/MyDrive/ibm project/WhatsApp Image 2023-11-28 at 11.00.00 PM (1).jpeg\") # Replace with the correct image path\n",
        "\n",
        "msg = input(\"Enter secret message:\")\n",
        "password = input(\"Enter a passcode:\")\n",
        "\n",
        "d = {}\n",
        "c = {}\n",
        "\n",
        "for i in range(255):\n",
        "    d[chr(i)] = i\n",
        "    c[i] = chr(i)\n",
        "\n",
        "m = 0\n",
        "n = 0\n",
        "z = 0\n",
        "\n",
        "for i in range(len(msg)):\n",
        "    img[n, m, z] = d[msg[i]]\n",
        "    n = n + 1\n",
        "    m = m + 1\n",
        "    z = (z + 1) % 3\n",
        "\n",
        "cv2.imwrite(\"encryptedImage.jpg\", img)\n",
        "os.system(\"start encryptedImage.jpg\")  # Use 'start' to open the image on Windows\n",
        "\n",
        "message = \"\"\n",
        "n = 0\n",
        "m = 0\n",
        "z = 0\n",
        "\n",
        "pas = input(\"Enter passcode for Decryption\")\n",
        "if password == pas:\n",
        "    for i in range(len(msg)):\n",
        "        message = message + c[img[n, m, z]]\n",
        "        n = n + 1\n",
        "        m = m + 1\n",
        "        z = (z + 1) % 3\n",
        "    print(\"Decryption message:\", message)\n",
        "else:\n",
        "    print(\"YOU ARE NOT auth\")"
      ]
    },
    {
      "cell_type": "code",
      "source": [],
      "metadata": {
        "id": "uGyDY0TRgF5I"
      },
      "execution_count": null,
      "outputs": []
    }
  ]
}